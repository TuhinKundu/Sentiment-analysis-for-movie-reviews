{
  "nbformat": 4,
  "nbformat_minor": 0,
  "metadata": {
    "colab": {
      "name": "ass3_dl4nlp.ipynb",
      "provenance": []
    },
    "kernelspec": {
      "name": "python3",
      "display_name": "Python 3"
    },
    "accelerator": "GPU"
  },
  "cells": [
    {
      "cell_type": "markdown",
      "metadata": {
        "id": "DN6nLO27Ct6V",
        "colab_type": "text"
      },
      "source": [
        "# **Assignment 3: DL4NLP**\n",
        "\n",
        "Done on Google Colaboratory\n",
        "\n",
        "Answers to questions given at the end of the notebook"
      ]
    },
    {
      "cell_type": "code",
      "metadata": {
        "id": "lw8gIR6jQULY",
        "colab_type": "code",
        "outputId": "508c656b-166e-476c-a147-5adfc3a2f161",
        "colab": {
          "base_uri": "https://localhost:8080/",
          "height": 82
        }
      },
      "source": [
        "import numpy as np\n",
        "import re\n",
        "import tensorflow as tf\n",
        "import datetime\n",
        "import time\n",
        "import matplotlib.pyplot as plt\n",
        "\n",
        "from sklearn.metrics import classification_report\n",
        "\n",
        "from keras.models import Model\n",
        "from keras.activations import relu\n",
        "from keras.layers import Input, Dense, Embedding, Flatten, Conv1D, MaxPooling1D\n",
        "from keras.layers import Dropout, concatenate\n"
      ],
      "execution_count": 0,
      "outputs": [
        {
          "output_type": "display_data",
          "data": {
            "text/html": [
              "<p style=\"color: red;\">\n",
              "The default version of TensorFlow in Colab will soon switch to TensorFlow 2.x.<br>\n",
              "We recommend you <a href=\"https://www.tensorflow.org/guide/migrate\" target=\"_blank\">upgrade</a> now \n",
              "or ensure your notebook will continue to use TensorFlow 1.x via the <code>%tensorflow_version 1.x</code> magic:\n",
              "<a href=\"https://colab.research.google.com/notebooks/tensorflow_version.ipynb\" target=\"_blank\">more info</a>.</p>\n"
            ],
            "text/plain": [
              "<IPython.core.display.HTML object>"
            ]
          },
          "metadata": {
            "tags": []
          }
        },
        {
          "output_type": "stream",
          "text": [
            "Using TensorFlow backend.\n"
          ],
          "name": "stderr"
        }
      ]
    },
    {
      "cell_type": "code",
      "metadata": {
        "id": "PSZTZz-bR8BY",
        "colab_type": "code",
        "outputId": "d597f176-a4ff-461a-c7b6-7c55f74df1fc",
        "colab": {
          "base_uri": "https://localhost:8080/",
          "height": 35
        }
      },
      "source": [
        "import os\n",
        "import urllib.request\n",
        "urllib.request.urlretrieve('http://nlp.stanford.edu/data/glove.6B.zip', 'glove.zip')"
      ],
      "execution_count": 0,
      "outputs": [
        {
          "output_type": "execute_result",
          "data": {
            "text/plain": [
              "('glove.zip', <http.client.HTTPMessage at 0x7fc5909f5b70>)"
            ]
          },
          "metadata": {
            "tags": []
          },
          "execution_count": 2
        }
      ]
    },
    {
      "cell_type": "code",
      "metadata": {
        "id": "Rps8hj5vSFsz",
        "colab_type": "code",
        "outputId": "26b14b76-f9db-47ea-e309-0965201e75e3",
        "colab": {
          "base_uri": "https://localhost:8080/",
          "height": 107
        }
      },
      "source": [
        "!unzip glove.zip"
      ],
      "execution_count": 0,
      "outputs": [
        {
          "output_type": "stream",
          "text": [
            "Archive:  glove.zip\n",
            "  inflating: glove.6B.50d.txt        \n",
            "  inflating: glove.6B.100d.txt       \n",
            "  inflating: glove.6B.200d.txt       \n",
            "  inflating: glove.6B.300d.txt       \n"
          ],
          "name": "stdout"
        }
      ]
    },
    {
      "cell_type": "code",
      "metadata": {
        "id": "uQpFIoTrSHz9",
        "colab_type": "code",
        "outputId": "34bfcbab-a3b5-4cc6-fb60-ee7586eec2d4",
        "colab": {
          "base_uri": "https://localhost:8080/",
          "height": 35
        }
      },
      "source": [
        "def glove_embedding(filename):\n",
        "  file_glove=open(filename)\n",
        "  glove={}\n",
        "  for line in file_glove:\n",
        "    tmp=line.split()\n",
        "    word=tmp[0]\n",
        "    coefficient=np.asarray(tmp[1:], dtype='float')\n",
        "    glove[word]=coefficient\n",
        "\n",
        "  file_glove.close()\n",
        "  return glove\n",
        "\n",
        "\n",
        "glove=glove_embedding('glove.6B.300d.txt')\n",
        "print(len(glove))"
      ],
      "execution_count": 0,
      "outputs": [
        {
          "output_type": "stream",
          "text": [
            "400000\n"
          ],
          "name": "stdout"
        }
      ]
    },
    {
      "cell_type": "code",
      "metadata": {
        "id": "cTMvAfyYSLEu",
        "colab_type": "code",
        "colab": {}
      },
      "source": [
        "!pip install -U -q PyDrive \n",
        "from pydrive.auth import GoogleAuth\n",
        "from pydrive.drive import GoogleDrive\n",
        "from google.colab import auth\n",
        "from oauth2client.client import GoogleCredentials\n",
        "\n",
        "# 1. Authenticate and create the PyDrive client.\n",
        "auth.authenticate_user()\n",
        "gauth = GoogleAuth()\n",
        "gauth.credentials = GoogleCredentials.get_application_default()\n",
        "drive = GoogleDrive(gauth)\n"
      ],
      "execution_count": 0,
      "outputs": []
    },
    {
      "cell_type": "code",
      "metadata": {
        "id": "ISzGcznGfS0s",
        "colab_type": "code",
        "colab": {}
      },
      "source": [
        "#Used Google Drive to store the data files and called them using their URL ids\n",
        "dataset=drive.CreateFile({'id':'1sZtg74UdDqF7ln8oQ9ML8yt5URJ9Y9M_'})\n",
        "dataset.GetContentFile('datasetSentences.txt')\n",
        "\n",
        "dataset=drive.CreateFile({'id':'1pOs1L-cPH4gGOEqxenc1gJmYXpNIWPwJ'})\n",
        "dataset.GetContentFile('datasetSplit.txt')\n",
        "\n",
        "dataset=drive.CreateFile({'id':'1R576Zcid3F-03yYrGM0PLVoIbUhMo8zD'})\n",
        "dataset.GetContentFile('rt-polarity.pos')\n",
        "\n",
        "dataset=drive.CreateFile({'id':'1ue-3QdyYisYT6gYDk4k6HU3HjTTK4k0B'})\n",
        "dataset.GetContentFile('rt-polarity.neg')"
      ],
      "execution_count": 0,
      "outputs": []
    },
    {
      "cell_type": "code",
      "metadata": {
        "id": "rMKMzah7fY-V",
        "colab_type": "code",
        "colab": {}
      },
      "source": [
        "def clean_str(string):\n",
        "    \"\"\"\n",
        "    Tokenization/string cleaning \n",
        "    Function taken from https://github.com/yoonkim/CNN_sentence/blob/master/process_data.py\n",
        "    \"\"\"\n",
        "    string = re.sub(r\"[^A-Za-z0-9(),.!?\\'\\`]\", \" \", string)\n",
        "    string = re.sub(r\"\\'s\", \" \\'s\", string)\n",
        "    string = re.sub(r\"\\'ve\", \" \\'ve\", string)\n",
        "    string = re.sub(r\"n\\'t\", \" n\\'t\", string)\n",
        "    string = re.sub(r\"\\'re\", \" \\'re\", string)\n",
        "    string = re.sub(r\"\\'d\", \" \\'d\", string)\n",
        "    string = re.sub(r\"\\'ll\", \" \\'ll\", string)\n",
        "    string = re.sub(r\",\", \" , \", string)\n",
        "    string = re.sub(r\"!\", \" ! \", string)\n",
        "    string = re.sub(r\"\\(\", \" \\( \", string)\n",
        "    string = re.sub(r\"\\)\", \" \\) \", string)\n",
        "    string = re.sub(r\"\\?\", \" \\? \", string)\n",
        "    string = re.sub(r\"\\s{2,}\", \" \", string)\n",
        "    return string.strip().lower()\n"
      ],
      "execution_count": 0,
      "outputs": []
    },
    {
      "cell_type": "code",
      "metadata": {
        "id": "Uc0fNDWTfbMf",
        "colab_type": "code",
        "colab": {}
      },
      "source": [
        "file1=\"datasetSentences.txt\"\n",
        "read1 = list(open(file1, \"r\").readlines())\n",
        "read1 = [s.strip() for s in read1]\n",
        "x1 = [clean_str(sent) for sent in read1]\n",
        "data=[]\n",
        "for line in x1[1:]:\n",
        "    tmp=line.split(\" \",1)\n",
        "    data.append([int(tmp[0]), tmp[1]])\n",
        "\n",
        "\n",
        "file2 = \"datasetSplit.txt\"\n",
        "read2 = list(open(file2, \"r\").readlines())\n",
        "read2 = [s.strip() for s in read2]\n",
        "#x2 = [clean_str(sent) for sent in read2]\n",
        "data_split=[]\n",
        "for line in read2[1:]:\n",
        "    tmp=line.split(\",\")\n",
        "    data_split.append([int(i) for i in tmp])"
      ],
      "execution_count": 0,
      "outputs": []
    },
    {
      "cell_type": "code",
      "metadata": {
        "id": "b8Sh7H0Xfd1l",
        "colab_type": "code",
        "colab": {}
      },
      "source": [
        "file3=\"rt-polarity.pos\"\n",
        "read3=list(open(file3,\"r\", encoding=\"latin-1\").readlines())\n",
        "read3=[s.strip() for s in read3]\n",
        "x3=[clean_str(sent) for sent in read3]\n",
        "\n",
        "file4=\"rt-polarity.neg\"\n",
        "read4=list(open(file4,\"r\",encoding=\"latin-1\").readlines())\n",
        "read4=[s.strip() for s in read4]\n",
        "x4=[clean_str(sent) for sent in read4]\n",
        "\n",
        "labels={}\n",
        "for line in x3:\n",
        "    tmp=line.split(\".\")\n",
        "    for item in tmp:\n",
        "        if len(item)>10:\n",
        "            for i in range(len(data)):\n",
        "                if item in data[i][1]:\n",
        "                    labels[data[i][0]]=1\n"
      ],
      "execution_count": 0,
      "outputs": []
    },
    {
      "cell_type": "code",
      "metadata": {
        "id": "swba7Ze0fhMf",
        "colab_type": "code",
        "colab": {}
      },
      "source": [
        "for line in x4:\n",
        "  tmp=line.split(\".\")\n",
        "  for item in tmp:\n",
        "    if len(item)>10:\n",
        "      for i in range(len(data)):\n",
        "        if item in data[i][1]:\n",
        "          labels[data[i][0]]=0"
      ],
      "execution_count": 0,
      "outputs": []
    },
    {
      "cell_type": "code",
      "metadata": {
        "id": "UArlEUZ9fi4p",
        "colab_type": "code",
        "colab": {}
      },
      "source": [
        "split={}\n",
        "train,val,test=0,0,0\n",
        "for k in labels.keys():\n",
        "  split[k]=data_split[k-1][1]"
      ],
      "execution_count": 0,
      "outputs": []
    },
    {
      "cell_type": "code",
      "metadata": {
        "id": "5pvmeqxAflUv",
        "colab_type": "code",
        "colab": {}
      },
      "source": [
        "x_text=[]\n",
        "for key in labels.keys():\n",
        "  x_text.append(data[key-1][1])\n",
        "  \n",
        "y=[]\n",
        "for key in labels.keys():\n",
        "  if labels[key]==1:\n",
        "    y.append([0,1])\n",
        "\n",
        "  else:\n",
        "    y.append([1,0])\n",
        "y=np.array(y)"
      ],
      "execution_count": 0,
      "outputs": []
    },
    {
      "cell_type": "code",
      "metadata": {
        "id": "d5b2XqPGfn04",
        "colab_type": "code",
        "colab": {}
      },
      "source": [
        "from keras.preprocessing.text import Tokenizer\n",
        "MAX_NB_WORDS = 100000\n",
        "\n",
        "tokenizer = Tokenizer(num_words=MAX_NB_WORDS)\n",
        "\n",
        "#create the word indices\n",
        "tokenizer.fit_on_texts(x_text)\n",
        "\n",
        "word_index = tokenizer.word_index"
      ],
      "execution_count": 0,
      "outputs": []
    },
    {
      "cell_type": "code",
      "metadata": {
        "id": "oQQJmFjMhc7f",
        "colab_type": "code",
        "outputId": "175ed01c-78a9-47aa-8fac-a92a63be67e7",
        "colab": {
          "base_uri": "https://localhost:8080/",
          "height": 397
        }
      },
      "source": [
        "max_sentence_length=100\n",
        "text_vocab_processor = tf.contrib.learn.preprocessing.VocabularyProcessor(max_sentence_length)\n",
        "x = np.array(list(text_vocab_processor.fit_transform(x_text)))\n",
        "print(\"Text Vocabulary Size: {:d}\".format(len(text_vocab_processor.vocabulary_)))\n",
        "\n",
        "print(\"x = {0}\".format(x.shape))\n",
        "print(\"y = {0}\".format(y.shape))"
      ],
      "execution_count": 0,
      "outputs": [
        {
          "output_type": "stream",
          "text": [
            "WARNING:tensorflow:\n",
            "The TensorFlow contrib module will not be included in TensorFlow 2.0.\n",
            "For more information, please see:\n",
            "  * https://github.com/tensorflow/community/blob/master/rfcs/20180907-contrib-sunset.md\n",
            "  * https://github.com/tensorflow/addons\n",
            "  * https://github.com/tensorflow/io (for I/O related ops)\n",
            "If you depend on functionality not listed there, please file an issue.\n",
            "\n",
            "WARNING:tensorflow:From <ipython-input-14-83586891de61>:2: VocabularyProcessor.__init__ (from tensorflow.contrib.learn.python.learn.preprocessing.text) is deprecated and will be removed in a future version.\n",
            "Instructions for updating:\n",
            "Please use tensorflow/transform or tf.data.\n",
            "WARNING:tensorflow:From /usr/local/lib/python3.6/dist-packages/tensorflow_core/contrib/learn/python/learn/preprocessing/text.py:154: CategoricalVocabulary.__init__ (from tensorflow.contrib.learn.python.learn.preprocessing.categorical_vocabulary) is deprecated and will be removed in a future version.\n",
            "Instructions for updating:\n",
            "Please use tensorflow/transform or tf.data.\n",
            "WARNING:tensorflow:From /usr/local/lib/python3.6/dist-packages/tensorflow_core/contrib/learn/python/learn/preprocessing/text.py:170: tokenizer (from tensorflow.contrib.learn.python.learn.preprocessing.text) is deprecated and will be removed in a future version.\n",
            "Instructions for updating:\n",
            "Please use tensorflow/transform or tf.data.\n",
            "Text Vocabulary Size: 16322\n",
            "x = (9544, 100)\n",
            "y = (9544, 2)\n"
          ],
          "name": "stdout"
        }
      ]
    },
    {
      "cell_type": "code",
      "metadata": {
        "id": "HTL3O2GuKRrQ",
        "colab_type": "code",
        "colab": {}
      },
      "source": [
        "x_train, x_dev, y_train, y_dev,x_eval,y_eval=[],[],[],[],[],[]\n",
        "cnt=0\n",
        "np.random.seed(10)\n",
        "shuffle_indices = np.random.permutation(np.arange(len(y)))\n",
        "x_shuffled = x[shuffle_indices]\n",
        "y_shuffled = y[shuffle_indices]\n",
        "\n",
        "for key in split.keys():\n",
        "  if split[key]==1:\n",
        "    x_train.append(x_shuffled[cnt])\n",
        "    y_train.append(y_shuffled[cnt])\n",
        "  elif split[key]==3:\n",
        "    x_dev.append(x_shuffled[cnt])\n",
        "    y_dev.append(y_shuffled[cnt])\n",
        "  else:\n",
        "    x_eval.append(x_shuffled[cnt])\n",
        "    y_eval.append(y_shuffled[cnt])\n",
        "  cnt+=1\n",
        "x_train=np.array(x_train)\n",
        "x_dev=np.array(x_dev)\n",
        "y_train=np.array(y_train)\n",
        "y_dev=np.array(y_dev)\n",
        "x_eval=np.array(x_eval)\n",
        "y_eval=np.array(y_eval)"
      ],
      "execution_count": 0,
      "outputs": []
    },
    {
      "cell_type": "code",
      "metadata": {
        "id": "-8lhAozSHkfg",
        "colab_type": "code",
        "colab": {}
      },
      "source": [
        "def create_embeddings_matrix(embeddings_index, vocabulary, embedding_dim):\n",
        "    embeddings_matrix = np.random.rand(len(vocabulary)+1, embedding_dim)\n",
        "    for i, word in enumerate(vocabulary):\n",
        "        embedding_vector = embeddings_index.get(word)\n",
        "        if embedding_vector is not None:\n",
        "            embeddings_matrix[i] = embedding_vector\n",
        "    return embeddings_matrix"
      ],
      "execution_count": 0,
      "outputs": []
    },
    {
      "cell_type": "code",
      "metadata": {
        "id": "nNTYaEhAIvyM",
        "colab_type": "code",
        "colab": {}
      },
      "source": [
        "embeddings_matrix = create_embeddings_matrix(glove, word_index, 300)"
      ],
      "execution_count": 0,
      "outputs": []
    },
    {
      "cell_type": "code",
      "metadata": {
        "id": "koti7fo9I3u8",
        "colab_type": "code",
        "colab": {}
      },
      "source": [
        "def get_embeddings_layer(embeddings_matrix, name, max_len, trainable=False):\n",
        "    embedding_layer = Embedding(input_dim=embeddings_matrix.shape[0],output_dim=embeddings_matrix.shape[1],\n",
        "        input_length=max_len,weights=[embeddings_matrix],trainable=trainable,name=name)\n",
        "    return embedding_layer"
      ],
      "execution_count": 0,
      "outputs": []
    },
    {
      "cell_type": "code",
      "metadata": {
        "id": "B2QP_rJvJ_2J",
        "colab_type": "code",
        "colab": {}
      },
      "source": [
        "def get_conv_pool(x_input, max_len, suffix, n_grams=[3,4,5], feature_maps=100):\n",
        "    branches = []\n",
        "    for n in n_grams:\n",
        "        branch = Conv1D(filters=feature_maps, kernel_size=n, activation=relu, name='Conv_'+suffix+'_'+str(n))(x_input)\n",
        "        branch = MaxPooling1D(pool_size=max_len-n+1, strides=None, padding='valid', name='MaxPooling_'+suffix+'_'+str(n))(branch)\n",
        "        branch = Flatten(name='Flatten_'+suffix+'_'+str(n))(branch)\n",
        "        branches.append(branch)\n",
        "    return branches"
      ],
      "execution_count": 0,
      "outputs": []
    },
    {
      "cell_type": "code",
      "metadata": {
        "id": "V6CavLbJRwKF",
        "colab_type": "code",
        "colab": {}
      },
      "source": [
        "def get_cnn_rand(embedding_dim, vocab_size, max_len, num_classes):\n",
        "    embedding_matrix = np.random.rand(vocab_size, embedding_dim)\n",
        "    embedding_layer = get_embeddings_layer(embedding_matrix, 'embedding_layer_dynamic', max_len, trainable=True)\n",
        "    i = Input(shape=(max_len,), dtype='int32', name='main_input')\n",
        "    x = embedding_layer(i)\n",
        "    branches = get_conv_pool(x, max_len, 'dynamic')\n",
        "    z = concatenate(branches, axis=-1)\n",
        "    z = Dropout(0.5)(z)\n",
        "    o = Dense(num_classes, activation='sigmoid', name='output')(z)\n",
        "    model = Model(inputs=i, outputs=o)\n",
        "    model.compile(loss={'output': 'binary_crossentropy'}, optimizer='adam', metrics=['accuracy'])\n",
        "    return model"
      ],
      "execution_count": 0,
      "outputs": []
    },
    {
      "cell_type": "code",
      "metadata": {
        "id": "KSUPw_epR80f",
        "colab_type": "code",
        "colab": {}
      },
      "source": [
        "model_1 = get_cnn_rand(300, len(word_index)+1, 100, 2)"
      ],
      "execution_count": 0,
      "outputs": []
    },
    {
      "cell_type": "code",
      "metadata": {
        "id": "f_mgd_u4Rxp8",
        "colab_type": "code",
        "outputId": "23953edf-c969-4295-9dcb-6bea256f62e2",
        "colab": {
          "base_uri": "https://localhost:8080/",
          "height": 935
        }
      },
      "source": [
        "history = model_1.fit(x=x_train, y=y_train, validation_data=(x_dev,y_dev), batch_size=50, epochs=25)"
      ],
      "execution_count": 0,
      "outputs": [
        {
          "output_type": "stream",
          "text": [
            "Train on 6843 samples, validate on 893 samples\n",
            "Epoch 1/25\n",
            "6843/6843 [==============================] - 5s 694us/step - loss: 0.7569 - acc: 0.5187 - val_loss: 0.6916 - val_acc: 0.4938\n",
            "Epoch 2/25\n",
            "6843/6843 [==============================] - 4s 585us/step - loss: 0.6877 - acc: 0.5435 - val_loss: 0.6884 - val_acc: 0.5627\n",
            "Epoch 3/25\n",
            "6843/6843 [==============================] - 4s 592us/step - loss: 0.6837 - acc: 0.5595 - val_loss: 0.6807 - val_acc: 0.6086\n",
            "Epoch 4/25\n",
            "6843/6843 [==============================] - 4s 588us/step - loss: 0.6678 - acc: 0.5931 - val_loss: 0.6802 - val_acc: 0.5571\n",
            "Epoch 5/25\n",
            "6843/6843 [==============================] - 4s 584us/step - loss: 0.6368 - acc: 0.6347 - val_loss: 0.6415 - val_acc: 0.6613\n",
            "Epoch 6/25\n",
            "6843/6843 [==============================] - 4s 582us/step - loss: 0.5865 - acc: 0.6930 - val_loss: 0.6267 - val_acc: 0.6450\n",
            "Epoch 7/25\n",
            "6843/6843 [==============================] - 4s 587us/step - loss: 0.5181 - acc: 0.7495 - val_loss: 0.5899 - val_acc: 0.6669\n",
            "Epoch 8/25\n",
            "6843/6843 [==============================] - 4s 590us/step - loss: 0.4596 - acc: 0.7829 - val_loss: 0.5571 - val_acc: 0.7200\n",
            "Epoch 9/25\n",
            "6843/6843 [==============================] - 4s 581us/step - loss: 0.3967 - acc: 0.8260 - val_loss: 0.5437 - val_acc: 0.7116\n",
            "Epoch 10/25\n",
            "6843/6843 [==============================] - 4s 579us/step - loss: 0.3481 - acc: 0.8478 - val_loss: 0.5446 - val_acc: 0.7094\n",
            "Epoch 11/25\n",
            "6843/6843 [==============================] - 4s 575us/step - loss: 0.3049 - acc: 0.8656 - val_loss: 0.5425 - val_acc: 0.7116\n",
            "Epoch 12/25\n",
            "6843/6843 [==============================] - 4s 584us/step - loss: 0.2711 - acc: 0.8832 - val_loss: 0.5427 - val_acc: 0.7318\n",
            "Epoch 13/25\n",
            "6843/6843 [==============================] - 4s 583us/step - loss: 0.2384 - acc: 0.8988 - val_loss: 0.5706 - val_acc: 0.7167\n",
            "Epoch 14/25\n",
            "6843/6843 [==============================] - 4s 586us/step - loss: 0.2184 - acc: 0.9019 - val_loss: 0.5849 - val_acc: 0.7273\n",
            "Epoch 15/25\n",
            "6843/6843 [==============================] - 4s 587us/step - loss: 0.1993 - acc: 0.9111 - val_loss: 0.5739 - val_acc: 0.7324\n",
            "Epoch 16/25\n",
            "6843/6843 [==============================] - 4s 577us/step - loss: 0.1891 - acc: 0.9173 - val_loss: 0.6183 - val_acc: 0.7251\n",
            "Epoch 17/25\n",
            "6843/6843 [==============================] - 4s 583us/step - loss: 0.1721 - acc: 0.9202 - val_loss: 0.6180 - val_acc: 0.7329\n",
            "Epoch 18/25\n",
            "6843/6843 [==============================] - 4s 587us/step - loss: 0.1596 - acc: 0.9239 - val_loss: 0.6187 - val_acc: 0.7419\n",
            "Epoch 19/25\n",
            "6843/6843 [==============================] - 4s 578us/step - loss: 0.1539 - acc: 0.9274 - val_loss: 0.6701 - val_acc: 0.7503\n",
            "Epoch 20/25\n",
            "6843/6843 [==============================] - 4s 586us/step - loss: 0.1468 - acc: 0.9314 - val_loss: 0.7431 - val_acc: 0.7027\n",
            "Epoch 21/25\n",
            "6843/6843 [==============================] - 4s 578us/step - loss: 0.1327 - acc: 0.9334 - val_loss: 0.6893 - val_acc: 0.7402\n",
            "Epoch 22/25\n",
            "6843/6843 [==============================] - 4s 573us/step - loss: 0.1290 - acc: 0.9351 - val_loss: 0.7413 - val_acc: 0.7290\n",
            "Epoch 23/25\n",
            "6843/6843 [==============================] - 4s 575us/step - loss: 0.1284 - acc: 0.9348 - val_loss: 0.7227 - val_acc: 0.7352\n",
            "Epoch 24/25\n",
            "6843/6843 [==============================] - 4s 569us/step - loss: 0.1194 - acc: 0.9389 - val_loss: 0.7684 - val_acc: 0.7419\n",
            "Epoch 25/25\n",
            "6843/6843 [==============================] - 4s 575us/step - loss: 0.1235 - acc: 0.9363 - val_loss: 0.7979 - val_acc: 0.7424\n"
          ],
          "name": "stdout"
        }
      ]
    },
    {
      "cell_type": "code",
      "metadata": {
        "id": "VYuysYb4iF6K",
        "colab_type": "code",
        "outputId": "bebd432f-918e-4e76-9e19-ab8e848ecbbf",
        "colab": {
          "base_uri": "https://localhost:8080/",
          "height": 791
        }
      },
      "source": [
        "acc=history.history['acc']\n",
        "val_acc=history.history['val_acc']\n",
        "loss=history.history['loss']\n",
        "val_loss=history.history['val_loss']\n",
        "fig=plt.subplots(figsize=(10,6))\n",
        "plt.plot(range(len(acc)),acc,c='blue',label='Train')\n",
        "plt.plot(range(len(val_acc)),val_acc,c='red',label='Dev')\n",
        "plt.margins(x=0)\n",
        "plt.title('Accuracy CNN Rand')\n",
        "plt.xlabel('Epoch number')\n",
        "plt.ylabel('Accuracy')\n",
        "plt.legend(loc=\"upper right\")\n",
        "plt.show()\n",
        "\n",
        "fig=plt.subplots(figsize=(10,6))\n",
        "plt.plot(range(len(loss)),loss,c='blue',label='Train')\n",
        "plt.plot(range(len(val_loss)),val_loss,c='red',label='Dev')\n",
        "plt.margins(x=0)\n",
        "plt.title('Loss CNN Rand')\n",
        "plt.xlabel('Epoch number')\n",
        "plt.ylabel('Loss')\n",
        "plt.legend(loc=\"upper right\")\n",
        "plt.show()"
      ],
      "execution_count": 0,
      "outputs": [
        {
          "output_type": "display_data",
          "data": {
            "image/png": "[encoded data removed]",
            "text/plain": [
              "<Figure size 720x432 with 1 Axes>"
            ]
          },
          "metadata": {
            "tags": []
          }
        },
        {
          "output_type": "display_data",
          "data": {
            "image/png": "[encoded data removed]",
            "text/plain": [
              "<Figure size 720x432 with 1 Axes>"
            ]
          },
          "metadata": {
            "tags": []
          }
        }
      ]
    },
    {
      "cell_type": "code",
      "metadata": {
        "id": "mTOwOyXhJNvK",
        "colab_type": "code",
        "colab": {}
      },
      "source": [
        "def get_cnn_pre_trained_embeddings(embedding_layer, max_len, num_classes):\n",
        "    i = Input(shape=(max_len,), dtype='int32', name='main_input')\n",
        "    x = embedding_layer(i)\n",
        "    branches = get_conv_pool(x, max_len, 'static')\n",
        "    z = concatenate(branches, axis=-1)\n",
        "    o = Dense(num_classes, activation='sigmoid', name='output')(z)\n",
        "    model = Model(inputs=i, outputs=o)\n",
        "    model.compile(loss={'output': 'binary_crossentropy'}, optimizer='adam', metrics=['accuracy'])\n",
        "    return model"
      ],
      "execution_count": 0,
      "outputs": []
    },
    {
      "cell_type": "code",
      "metadata": {
        "id": "5fV5e-f_JD2d",
        "colab_type": "code",
        "colab": {}
      },
      "source": [
        "embedding_layer_static = get_embeddings_layer(embeddings_matrix, 'embedding_layer_static', 100, trainable=False)"
      ],
      "execution_count": 0,
      "outputs": []
    },
    {
      "cell_type": "code",
      "metadata": {
        "id": "H02Oh9HZJz7y",
        "colab_type": "code",
        "colab": {}
      },
      "source": [
        "model_2 = get_cnn_pre_trained_embeddings(embedding_layer_static, 100, 2)"
      ],
      "execution_count": 0,
      "outputs": []
    },
    {
      "cell_type": "code",
      "metadata": {
        "id": "Txpfsqx0J6Vr",
        "colab_type": "code",
        "outputId": "6c8ebd10-32ee-4eb2-9ecb-6ba12155b1cf",
        "colab": {
          "base_uri": "https://localhost:8080/",
          "height": 935
        }
      },
      "source": [
        "history = model_2.fit(x=x_train, y=y_train, validation_data=(x_dev,y_dev), batch_size=50, epochs=25)"
      ],
      "execution_count": 0,
      "outputs": [
        {
          "output_type": "stream",
          "text": [
            "Train on 6843 samples, validate on 893 samples\n",
            "Epoch 1/25\n",
            "6843/6843 [==============================] - 4s 512us/step - loss: 0.6594 - acc: 0.6136 - val_loss: 0.6097 - val_acc: 0.6523\n",
            "Epoch 2/25\n",
            "6843/6843 [==============================] - 3s 417us/step - loss: 0.4535 - acc: 0.8114 - val_loss: 0.5831 - val_acc: 0.6937\n",
            "Epoch 3/25\n",
            "6843/6843 [==============================] - 3s 415us/step - loss: 0.2936 - acc: 0.9198 - val_loss: 0.5954 - val_acc: 0.6898\n",
            "Epoch 4/25\n",
            "6843/6843 [==============================] - 3s 409us/step - loss: 0.1534 - acc: 0.9835 - val_loss: 0.6449 - val_acc: 0.6909\n",
            "Epoch 5/25\n",
            "6843/6843 [==============================] - 3s 415us/step - loss: 0.0735 - acc: 0.9975 - val_loss: 0.6225 - val_acc: 0.7100\n",
            "Epoch 6/25\n",
            "6843/6843 [==============================] - 3s 412us/step - loss: 0.0362 - acc: 0.9999 - val_loss: 0.6670 - val_acc: 0.7150\n",
            "Epoch 7/25\n",
            "6843/6843 [==============================] - 3s 411us/step - loss: 0.0213 - acc: 1.0000 - val_loss: 0.6706 - val_acc: 0.7111\n",
            "Epoch 8/25\n",
            "6843/6843 [==============================] - 3s 415us/step - loss: 0.0138 - acc: 1.0000 - val_loss: 0.6857 - val_acc: 0.7178\n",
            "Epoch 9/25\n",
            "6843/6843 [==============================] - 3s 413us/step - loss: 0.0100 - acc: 1.0000 - val_loss: 0.7042 - val_acc: 0.7156\n",
            "Epoch 10/25\n",
            "6843/6843 [==============================] - 3s 410us/step - loss: 0.0075 - acc: 1.0000 - val_loss: 0.7335 - val_acc: 0.7133\n",
            "Epoch 11/25\n",
            "6843/6843 [==============================] - 3s 414us/step - loss: 0.0058 - acc: 1.0000 - val_loss: 0.7442 - val_acc: 0.7128\n",
            "Epoch 12/25\n",
            "6843/6843 [==============================] - 3s 409us/step - loss: 0.0047 - acc: 1.0000 - val_loss: 0.7518 - val_acc: 0.7139\n",
            "Epoch 13/25\n",
            "6843/6843 [==============================] - 3s 416us/step - loss: 0.0038 - acc: 1.0000 - val_loss: 0.7684 - val_acc: 0.7150\n",
            "Epoch 14/25\n",
            "6843/6843 [==============================] - 3s 402us/step - loss: 0.0031 - acc: 1.0000 - val_loss: 0.7731 - val_acc: 0.7144\n",
            "Epoch 15/25\n",
            "6843/6843 [==============================] - 3s 407us/step - loss: 0.0026 - acc: 1.0000 - val_loss: 0.7906 - val_acc: 0.7156\n",
            "Epoch 16/25\n",
            "6843/6843 [==============================] - 3s 399us/step - loss: 0.0022 - acc: 1.0000 - val_loss: 0.8043 - val_acc: 0.7133\n",
            "Epoch 17/25\n",
            "6843/6843 [==============================] - 3s 411us/step - loss: 0.0019 - acc: 1.0000 - val_loss: 0.8179 - val_acc: 0.7150\n",
            "Epoch 18/25\n",
            "6843/6843 [==============================] - 3s 409us/step - loss: 0.0016 - acc: 1.0000 - val_loss: 0.8236 - val_acc: 0.7144\n",
            "Epoch 19/25\n",
            "6843/6843 [==============================] - 3s 401us/step - loss: 0.0014 - acc: 1.0000 - val_loss: 0.8332 - val_acc: 0.7150\n",
            "Epoch 20/25\n",
            "6843/6843 [==============================] - 3s 405us/step - loss: 0.0013 - acc: 1.0000 - val_loss: 0.8448 - val_acc: 0.7150\n",
            "Epoch 21/25\n",
            "6843/6843 [==============================] - 3s 420us/step - loss: 0.0011 - acc: 1.0000 - val_loss: 0.8578 - val_acc: 0.7161\n",
            "Epoch 22/25\n",
            "6843/6843 [==============================] - 3s 419us/step - loss: 9.7238e-04 - acc: 1.0000 - val_loss: 0.8596 - val_acc: 0.7139\n",
            "Epoch 23/25\n",
            "6843/6843 [==============================] - 3s 414us/step - loss: 8.6095e-04 - acc: 1.0000 - val_loss: 0.8681 - val_acc: 0.7139\n",
            "Epoch 24/25\n",
            "6843/6843 [==============================] - 3s 421us/step - loss: 7.6572e-04 - acc: 1.0000 - val_loss: 0.8766 - val_acc: 0.7150\n",
            "Epoch 25/25\n",
            "6843/6843 [==============================] - 3s 414us/step - loss: 6.8379e-04 - acc: 1.0000 - val_loss: 0.8871 - val_acc: 0.7133\n"
          ],
          "name": "stdout"
        }
      ]
    },
    {
      "cell_type": "code",
      "metadata": {
        "id": "PCxyloxhuLmh",
        "colab_type": "code",
        "outputId": "c4be8196-6d86-4278-8294-0248aa6bdbf4",
        "colab": {
          "base_uri": "https://localhost:8080/",
          "height": 791
        }
      },
      "source": [
        "acc=history.history['acc']\n",
        "val_acc=history.history['val_acc']\n",
        "loss=history.history['loss']\n",
        "val_loss=history.history['val_loss']\n",
        "fig=plt.subplots(figsize=(10,6))\n",
        "plt.plot(range(len(acc)),acc,c='blue',label='Train')\n",
        "plt.plot(range(len(val_acc)),val_acc,c='red',label='Dev')\n",
        "plt.margins(x=0)\n",
        "plt.title('Accuracy CNN Static')\n",
        "plt.xlabel('Epoch number')\n",
        "plt.ylabel('Accuracy')\n",
        "plt.legend(loc=\"upper right\")\n",
        "plt.show()\n",
        "\n",
        "fig=plt.subplots(figsize=(10,6))\n",
        "plt.plot(range(len(loss)),loss,c='blue',label='Train')\n",
        "plt.plot(range(len(val_loss)),val_loss,c='red',label='Dev')\n",
        "plt.margins(x=0)\n",
        "plt.title('Loss CNN Static')\n",
        "plt.xlabel('Epoch number')\n",
        "plt.ylabel('Loss')\n",
        "plt.legend(loc=\"upper right\")\n",
        "plt.show()"
      ],
      "execution_count": 0,
      "outputs": [
        {
          "output_type": "display_data",
          "data": {
            "image/png": "[encoded data removed]",
            "text/plain": [
              "<Figure size 720x432 with 1 Axes>"
            ]
          },
          "metadata": {
            "tags": []
          }
        },
        {
          "output_type": "display_data",
          "data": {
            "image/png": "[encoded data removed]",
            "text/plain": [
              "<Figure size 720x432 with 1 Axes>"
            ]
          },
          "metadata": {
            "tags": []
          }
        }
      ]
    },
    {
      "cell_type": "code",
      "metadata": {
        "id": "1FgMVtgQLC-4",
        "colab_type": "code",
        "colab": {}
      },
      "source": [
        "embedding_layer_dynamic = get_embeddings_layer(embeddings_matrix, 'embedding_layer_dynamic', 100, trainable=True)"
      ],
      "execution_count": 0,
      "outputs": []
    },
    {
      "cell_type": "code",
      "metadata": {
        "id": "6Zh9V3ugPuyE",
        "colab_type": "code",
        "colab": {}
      },
      "source": [
        "model_3 = get_cnn_pre_trained_embeddings(embedding_layer_dynamic, 100, 2)"
      ],
      "execution_count": 0,
      "outputs": []
    },
    {
      "cell_type": "code",
      "metadata": {
        "id": "SnVpkB1JPzgv",
        "colab_type": "code",
        "outputId": "3fa7ab17-242a-41bb-cf26-ee8b63b81f25",
        "colab": {
          "base_uri": "https://localhost:8080/",
          "height": 884
        }
      },
      "source": [
        "history = model_3.fit(x=x_train, y=y_train, validation_data=(x_dev,y_dev), batch_size=50, epochs=25)"
      ],
      "execution_count": 0,
      "outputs": [
        {
          "output_type": "stream",
          "text": [
            "Train on 6843 samples, validate on 893 samples\n",
            "Epoch 1/25\n",
            "6843/6843 [==============================] - 5s 760us/step - loss: 0.6242 - acc: 0.6485 - val_loss: 0.5751 - val_acc: 0.6971\n",
            "Epoch 2/25\n",
            "6843/6843 [==============================] - 4s 590us/step - loss: 0.3450 - acc: 0.8789 - val_loss: 0.5344 - val_acc: 0.7391\n",
            "Epoch 3/25\n",
            "6843/6843 [==============================] - 4s 584us/step - loss: 0.1384 - acc: 0.9710 - val_loss: 0.5508 - val_acc: 0.7469\n",
            "Epoch 4/25\n",
            "6843/6843 [==============================] - 4s 593us/step - loss: 0.0404 - acc: 0.9985 - val_loss: 0.5887 - val_acc: 0.7581\n",
            "Epoch 5/25\n",
            "6843/6843 [==============================] - 4s 584us/step - loss: 0.0142 - acc: 0.9999 - val_loss: 0.6267 - val_acc: 0.7604\n",
            "Epoch 6/25\n",
            "6843/6843 [==============================] - 4s 589us/step - loss: 0.0073 - acc: 1.0000 - val_loss: 0.6582 - val_acc: 0.7615\n",
            "Epoch 7/25\n",
            "6843/6843 [==============================] - 4s 581us/step - loss: 0.0046 - acc: 1.0000 - val_loss: 0.6867 - val_acc: 0.7620\n",
            "Epoch 8/25\n",
            "6843/6843 [==============================] - 4s 589us/step - loss: 0.0032 - acc: 1.0000 - val_loss: 0.7159 - val_acc: 0.7598\n",
            "Epoch 9/25\n",
            "6843/6843 [==============================] - 4s 584us/step - loss: 0.0023 - acc: 1.0000 - val_loss: 0.7356 - val_acc: 0.7637\n",
            "Epoch 10/25\n",
            "6843/6843 [==============================] - 4s 586us/step - loss: 0.0018 - acc: 1.0000 - val_loss: 0.7559 - val_acc: 0.7632\n",
            "Epoch 11/25\n",
            "6843/6843 [==============================] - 4s 584us/step - loss: 0.0014 - acc: 1.0000 - val_loss: 0.7734 - val_acc: 0.7620\n",
            "Epoch 12/25\n",
            "6843/6843 [==============================] - 4s 587us/step - loss: 0.0011 - acc: 1.0000 - val_loss: 0.7911 - val_acc: 0.7632\n",
            "Epoch 13/25\n",
            "6843/6843 [==============================] - 4s 598us/step - loss: 9.0182e-04 - acc: 1.0000 - val_loss: 0.8060 - val_acc: 0.7632\n",
            "Epoch 14/25\n",
            "6843/6843 [==============================] - 4s 591us/step - loss: 7.4712e-04 - acc: 1.0000 - val_loss: 0.8211 - val_acc: 0.7620\n",
            "Epoch 15/25\n",
            "6843/6843 [==============================] - 4s 585us/step - loss: 6.2566e-04 - acc: 1.0000 - val_loss: 0.8397 - val_acc: 0.7598\n",
            "Epoch 16/25\n",
            "6843/6843 [==============================] - 4s 587us/step - loss: 5.3031e-04 - acc: 1.0000 - val_loss: 0.8531 - val_acc: 0.7592\n",
            "Epoch 17/25\n",
            "6843/6843 [==============================] - 4s 580us/step - loss: 4.5260e-04 - acc: 1.0000 - val_loss: 0.8621 - val_acc: 0.7632\n",
            "Epoch 18/25\n",
            "6843/6843 [==============================] - 4s 580us/step - loss: 3.8938e-04 - acc: 1.0000 - val_loss: 0.8760 - val_acc: 0.7626\n",
            "Epoch 19/25\n",
            "6843/6843 [==============================] - 4s 588us/step - loss: 3.3727e-04 - acc: 1.0000 - val_loss: 0.8881 - val_acc: 0.7620\n",
            "Epoch 20/25\n",
            "6843/6843 [==============================] - 4s 590us/step - loss: 2.9424e-04 - acc: 1.0000 - val_loss: 0.9009 - val_acc: 0.7604\n",
            "Epoch 21/25\n",
            "6843/6843 [==============================] - 4s 593us/step - loss: 2.5761e-04 - acc: 1.0000 - val_loss: 0.9119 - val_acc: 0.7592\n",
            "Epoch 22/25\n",
            "6843/6843 [==============================] - 4s 594us/step - loss: 2.2723e-04 - acc: 1.0000 - val_loss: 0.9228 - val_acc: 0.7604\n",
            "Epoch 23/25\n",
            "6843/6843 [==============================] - 4s 584us/step - loss: 2.0043e-04 - acc: 1.0000 - val_loss: 0.9344 - val_acc: 0.7604\n",
            "Epoch 24/25\n",
            "6843/6843 [==============================] - 4s 586us/step - loss: 1.7760e-04 - acc: 1.0000 - val_loss: 0.9441 - val_acc: 0.7598\n",
            "Epoch 25/25\n",
            "6843/6843 [==============================] - 4s 589us/step - loss: 1.5798e-04 - acc: 1.0000 - val_loss: 0.9543 - val_acc: 0.7598\n"
          ],
          "name": "stdout"
        }
      ]
    },
    {
      "cell_type": "code",
      "metadata": {
        "id": "Ozil4RGJ_wlm",
        "colab_type": "code",
        "outputId": "2b8a1896-3205-41e4-9858-df6d4e7165c4",
        "colab": {
          "base_uri": "https://localhost:8080/",
          "height": 791
        }
      },
      "source": [
        "acc=history.history['acc']\n",
        "val_acc=history.history['val_acc']\n",
        "loss=history.history['loss']\n",
        "val_loss=history.history['val_loss']\n",
        "fig=plt.subplots(figsize=(10,6))\n",
        "plt.plot(range(len(acc)),acc,c='blue',label='Train')\n",
        "plt.plot(range(len(val_acc)),val_acc,c='red',label='Dev')\n",
        "plt.margins(x=0)\n",
        "plt.title('Accuracy CNN Non-Static')\n",
        "plt.xlabel('Epoch number')\n",
        "plt.ylabel('Accuracy')\n",
        "plt.legend(loc=\"upper right\")\n",
        "plt.show()\n",
        "\n",
        "fig=plt.subplots(figsize=(10,6))\n",
        "plt.plot(range(len(loss)),loss,c='blue',label='Train')\n",
        "plt.plot(range(len(val_loss)),val_loss,c='red',label='Dev')\n",
        "plt.margins(x=0)\n",
        "plt.title('Loss CNN Non-Static')\n",
        "plt.xlabel('Epoch number')\n",
        "plt.ylabel('Loss')\n",
        "plt.legend(loc=\"upper right\")\n",
        "plt.show()"
      ],
      "execution_count": 0,
      "outputs": [
        {
          "output_type": "display_data",
          "data": {
            "image/png": "[encoded data removed]",
            "text/plain": [
              "<Figure size 720x432 with 1 Axes>"
            ]
          },
          "metadata": {
            "tags": []
          }
        },
        {
          "output_type": "display_data",
          "data": {
            "image/png": "[encoded data removed]",
            "text/plain": [
              "<Figure size 720x432 with 1 Axes>"
            ]
          },
          "metadata": {
            "tags": []
          }
        }
      ]
    },
    {
      "cell_type": "code",
      "metadata": {
        "id": "XHpfAobMK5ER",
        "colab_type": "code",
        "outputId": "6ca8abd6-796c-4268-9270-2fa84e57ae11",
        "colab": {
          "base_uri": "https://localhost:8080/",
          "height": 51
        }
      },
      "source": [
        "y_pred = model_3.predict(x_eval, batch_size=50, verbose=1)\n",
        "print(len(y_pred))"
      ],
      "execution_count": 0,
      "outputs": [
        {
          "output_type": "stream",
          "text": [
            "1808/1808 [==============================] - 0s 175us/step\n",
            "1808\n"
          ],
          "name": "stdout"
        }
      ]
    },
    {
      "cell_type": "code",
      "metadata": {
        "id": "iiLQ0aLZKpnd",
        "colab_type": "code",
        "colab": {}
      },
      "source": [
        "tp,tn,fp,fn=0,0,0,0\n",
        "for i in range(len(y_pred)):\n",
        "  if y_pred[i][0]>=y_pred[i][1]:\n",
        "    y_pred[i][0]=1\n",
        "  else:\n",
        "    y_pred[i][1]=1\n",
        "\n",
        "  if y_pred[i][0]==1 and y_eval[i][0]==1:\n",
        "    tn+=1\n",
        "  elif y_pred[i][1]==1 and y_eval[i][1]==1:\n",
        "    tp+=1\n",
        "  elif y_pred[i][1]==1 and y_eval[i][0]==1:\n",
        "    fp+=1\n",
        "  else:\n",
        "    fn+=1\n"
      ],
      "execution_count": 0,
      "outputs": []
    },
    {
      "cell_type": "code",
      "metadata": {
        "id": "hEp3CqyWLDfd",
        "colab_type": "code",
        "outputId": "be4005bd-4bd4-48ae-b686-bb59e33264c7",
        "colab": {
          "base_uri": "https://localhost:8080/",
          "height": 34
        }
      },
      "source": [
        "print(\"accuracy=\"+str((tp+tn)/len(y_pred)))"
      ],
      "execution_count": 0,
      "outputs": [
        {
          "output_type": "stream",
          "text": [
            "accuracy=0.7627212389380531\n"
          ],
          "name": "stdout"
        }
      ]
    },
    {
      "cell_type": "code",
      "metadata": {
        "id": "ma3WsnJBPjGy",
        "colab_type": "code",
        "outputId": "a3a6bfe7-5450-4ad4-c62e-884cf6da5dbc",
        "colab": {
          "base_uri": "https://localhost:8080/",
          "height": 68
        }
      },
      "source": [
        "p=tp/(tp+fp)\n",
        "r=tp/(tp+fn)\n",
        "print(\"Precision=\"+str(p))\n",
        "print(\"Recall=\"+str(r))\n",
        "print(\"F1=\"+str(2*p*r/(p+r)))"
      ],
      "execution_count": 0,
      "outputs": [
        {
          "output_type": "stream",
          "text": [
            "Precision=0.7801169590643274\n",
            "Recall=0.7345814977973568\n",
            "F1=0.7566647759500851\n"
          ],
          "name": "stdout"
        }
      ]
    },
    {
      "cell_type": "markdown",
      "metadata": {
        "id": "LiN07ddeym6y",
        "colab_type": "text"
      },
      "source": [
        "The sentences present in dataset of Stanford have been mapped to the classes given in the Cornell files by checking every sentence in the Stanford dataset which is greater than length 10 whether it is present in the Cornell files and demarcating positive or negative sentiment.\n",
        "\n",
        "CNN Non-static method seems to be working the best on the dataset with highest validation accuracy. Hence it is the model used on the test set, which is resulting into an accuracy of 75.6%.\n",
        "\n",
        "CNN Non-static method seems to be working best due to the fact that the model is updated both weights and embeddings and tuning them for better predictive ability for the task of sentiment classification."
      ]
    },
    {
      "cell_type": "code",
      "metadata": {
        "id": "ptbusGM-T2eQ",
        "colab_type": "code",
        "colab": {}
      },
      "source": [
        ""
      ],
      "execution_count": 0,
      "outputs": []
    }
  ]
}